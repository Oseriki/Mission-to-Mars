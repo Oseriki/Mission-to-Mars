{
 "cells": [
  {
   "cell_type": "code",
   "execution_count": 1,
   "id": "fff5390a",
   "metadata": {},
   "outputs": [],
   "source": [
    "# The data Robin wants to collect from this particular website is the most recent news article along with its summary. \n",
    "# Remember, the code for this will eventually be used in an application that will scrape live data with \n",
    "# the click of a button—this site is dynamic and the articles will change frequently, \n",
    "# which is why Robin is removing the manual task of retrieving each new article."
   ]
  },
  {
   "cell_type": "code",
   "execution_count": 17,
   "id": "c309d377",
   "metadata": {},
   "outputs": [],
   "source": [
    "# Import Splinter, BeautifulSoup and Pandas\n",
    "from splinter import Browser\n",
    "from bs4 import BeautifulSoup as soup\n",
    "from webdriver_manager.chrome import ChromeDriverManager\n",
    "\n",
    "import pandas as pd"
   ]
  },
  {
   "cell_type": "code",
   "execution_count": 3,
   "id": "838c1747",
   "metadata": {},
   "outputs": [
    {
     "name": "stderr",
     "output_type": "stream",
     "text": [
      "[WDM] - \n",
      "\n",
      "[WDM] - ====== WebDriver manager ======\n",
      "[WDM] - Current google-chrome version is 95.0.4638\n",
      "[WDM] - Get LATEST driver version for 95.0.4638\n",
      "[WDM] - Driver [C:\\Users\\lekan\\.wdm\\drivers\\chromedriver\\win32\\95.0.4638.17\\chromedriver.exe] found in cache\n"
     ]
    }
   ],
   "source": [
    "# Set up Splinter - to set the executable path and initialize a browser\n",
    "# This means that we're prepping our automated browser. We're also specifying that we'll be using Chrome as our browser.\n",
    "\n",
    "executable_path = {'executable_path': ChromeDriverManager().install()}\n",
    "browser = Browser('chrome', **executable_path, headless=False)"
   ]
  },
  {
   "cell_type": "code",
   "execution_count": 4,
   "id": "f385d37f",
   "metadata": {},
   "outputs": [
    {
     "data": {
      "text/plain": [
       "True"
      ]
     },
     "execution_count": 4,
     "metadata": {},
     "output_type": "execute_result"
    }
   ],
   "source": [
    "# Visit the mars nasa news site\n",
    "# This code tells Splinter which site we want to visit by assigning the link to a URL - the mars nasa news site\n",
    "url = 'https://redplanetscience.com'\n",
    "browser.visit(url)\n",
    "# Optional delay for loading the page\n",
    "# This tells our browser to wait one second before searching for components \n",
    "# because sometimes dynamic pages take a little while to load, especially if they are image-heavy.\n",
    "browser.is_element_present_by_css('div.list_text', wait_time=1)"
   ]
  },
  {
   "cell_type": "code",
   "execution_count": 5,
   "id": "415949d4",
   "metadata": {},
   "outputs": [],
   "source": [
    "# Use BeautifulSoup to parse the HTML\n",
    "# That means that BeautifulSoup has taken a look at the different components and can now access them. \n",
    "# Specifically, BeautifulSoup parses the HTML text and then stores it as an object.\n",
    "html = browser.html\n",
    "news_soup = soup(html, 'html.parser')\n",
    "slide_elem = news_soup.select_one('div.list_text')"
   ]
  },
  {
   "cell_type": "code",
   "execution_count": 6,
   "id": "947e7f8d",
   "metadata": {},
   "outputs": [
    {
     "data": {
      "text/plain": [
       "<div class=\"content_title\">NASA Invites Students to Name Mars 2020 Rover</div>"
      ]
     },
     "execution_count": 6,
     "metadata": {},
     "output_type": "execute_result"
    }
   ],
   "source": [
    "# Assign the title and summary text to variables we'll reference later. \n",
    "slide_elem.find('div', class_='content_title')\n",
    "\n",
    "# In this line of code, we chained .find onto our previously assigned variable, slide_elem. \n",
    "# When we do this, we're saying, \"This variable holds a ton of information, \n",
    "# so look inside of that information to find this specific data.\" \n",
    "# The data we're looking for is the content title, which we've specified by saying, \n",
    "# \"The specific data is in a <div /> with a class of 'content_title'.\"\n",
    "\n",
    "# The output should be the HTML containing the content title and anything else nested inside of that <div />."
   ]
  },
  {
   "cell_type": "code",
   "execution_count": 7,
   "id": "1f445642",
   "metadata": {},
   "outputs": [
    {
     "data": {
      "text/plain": [
       "'NASA Invites Students to Name Mars 2020 Rover'"
      ]
     },
     "execution_count": 7,
     "metadata": {},
     "output_type": "execute_result"
    }
   ],
   "source": [
    "# Scrape First Article Title (Most Recent Article)\n",
    "\n",
    "# The title is in that mix of HTML in our output—that's awesome! But we need to get just the text, \n",
    "# and the extra HTML stuff isn't necessary. The following code resolves this issue:\n",
    "\n",
    "# Use the parent element to find the first `a` tag and save it as `news_title`\n",
    "news_title = slide_elem.find('div', class_='content_title').get_text()\n",
    "news_title\n",
    "\n",
    "# We've added something new to our .find() method here: .get_text(). \n",
    "# When this new method is chained onto .find(), only the text of the element is returned. \n",
    "# The code above, for example, would return only the title of the news article and not any of the HTML tags or elements. \n",
    "# When this new method is chained onto .find(), only the text of the element is returned. \n",
    "# The code above, for example, would return only the title of the news article and not any of the HTML tags or elements."
   ]
  },
  {
   "cell_type": "code",
   "execution_count": 8,
   "id": "415366c9",
   "metadata": {},
   "outputs": [
    {
     "data": {
      "text/plain": [
       "\"Through Nov. 1, K-12 students in the U.S. are encouraged to enter an essay contest to name NASA's next Mars rover.\""
      ]
     },
     "execution_count": 8,
     "metadata": {},
     "output_type": "execute_result"
    }
   ],
   "source": [
    "# Scrape First Article Summary\n",
    "\n",
    "# Use the parent element to find the paragraph text\n",
    "news_p = slide_elem.find('div', class_='article_teaser_body').get_text()\n",
    "news_p"
   ]
  },
  {
   "cell_type": "markdown",
   "id": "ae926cf4",
   "metadata": {},
   "source": [
    "### Featured Images"
   ]
  },
  {
   "cell_type": "code",
   "execution_count": 9,
   "id": "70c0f75a",
   "metadata": {},
   "outputs": [],
   "source": [
    "# Robin's next step scraping code will be to gather the featured images \n",
    "# from the Jet Propulsion Laboratory's Space Images webpage\n",
    "\n",
    "# The first image that pops up on the webpage is the featured image. Robin wants the full-size version of this image, \n",
    "# so we know we'll want Splinter to click the \"Full Image\" button. From there, the page directs us to a slideshow. \n",
    "# It's a little closer to getting the full-size feature image, but we aren't quite there yet.\n",
    "\n",
    "# This is a lot of clicking to get to the image we want. Let's start getting our code ready to automate all of the clicks."
   ]
  },
  {
   "cell_type": "code",
   "execution_count": 11,
   "id": "c032c40a",
   "metadata": {},
   "outputs": [],
   "source": [
    "# Visit URL\n",
    "url = 'https://spaceimages-mars.com'\n",
    "browser.visit(url)"
   ]
  },
  {
   "cell_type": "code",
   "execution_count": 12,
   "id": "c80874c6",
   "metadata": {},
   "outputs": [],
   "source": [
    "# Next, we want to click the \"Full Image\" button. This button will direct our browser to an image slideshow.\n",
    "# Find and click the full image button\n",
    "\n",
    "full_image_elem = browser.find_by_tag('button')[1]\n",
    "full_image_elem.click()"
   ]
  },
  {
   "cell_type": "code",
   "execution_count": 13,
   "id": "30ec4335",
   "metadata": {},
   "outputs": [],
   "source": [
    "# With the new page loaded onto our automated browser, it needs to be parsed so we can continue \n",
    "# and scrape the full-size image URL. \n",
    "\n",
    "# Parse the resulting html with soup\n",
    "html = browser.html\n",
    "img_soup = soup(html, 'html.parser')"
   ]
  },
  {
   "cell_type": "code",
   "execution_count": 14,
   "id": "fe509709",
   "metadata": {},
   "outputs": [
    {
     "data": {
      "text/plain": [
       "'image/featured/mars2.jpg'"
      ]
     },
     "execution_count": 14,
     "metadata": {},
     "output_type": "execute_result"
    }
   ],
   "source": [
    "# Find the relative image url\n",
    "img_url_rel = img_soup.find('img', class_='fancybox-image').get('src')\n",
    "img_url_rel\n",
    "\n",
    "# This looks great! We were able to pull the link to the image by pointing BeautifulSoup to where the image will be, \n",
    "# instead of grabbing the URL directly. "
   ]
  },
  {
   "cell_type": "code",
   "execution_count": 15,
   "id": "98f2648a",
   "metadata": {},
   "outputs": [
    {
     "data": {
      "text/plain": [
       "'https://spaceimages-mars.com/image/featured/mars2.jpg'"
      ]
     },
     "execution_count": 15,
     "metadata": {},
     "output_type": "execute_result"
    }
   ],
   "source": [
    "# The URL above is incomplete. We are using f-string to make it complete\n",
    "# Use the base URL to create an absolute URL\n",
    "img_url = f'https://spaceimages-mars.com/{img_url_rel}'\n",
    "img_url"
   ]
  },
  {
   "cell_type": "code",
   "execution_count": 16,
   "id": "dfd6c723",
   "metadata": {},
   "outputs": [],
   "source": [
    "# The next bit of information Robin wants to have included in her app is a collection of Mars facts. \n",
    "# With news articles and high-quality images, a collection of facts is a solid addition to her web app.\n",
    "# She's collecting this data from https://galaxyfacts-mars.com/\n",
    "# Robin already has a great photo and an article, so all she wants from this page is the table.\n",
    "# Tables in HTML are basically made up of many smaller containers. The main container is the <table /> tag. \n",
    "# Inside the table is <tbody />, which is the body of the table—the headers, columns, and rows.\n",
    "# <tr /> is the tag for each table row. Within that tag, the table data is stored in <td /> tags. \n",
    "# This is where the columns are established."
   ]
  },
  {
   "cell_type": "code",
   "execution_count": 18,
   "id": "7781db8c",
   "metadata": {},
   "outputs": [
    {
     "data": {
      "text/html": [
       "<div>\n",
       "<style scoped>\n",
       "    .dataframe tbody tr th:only-of-type {\n",
       "        vertical-align: middle;\n",
       "    }\n",
       "\n",
       "    .dataframe tbody tr th {\n",
       "        vertical-align: top;\n",
       "    }\n",
       "\n",
       "    .dataframe thead th {\n",
       "        text-align: right;\n",
       "    }\n",
       "</style>\n",
       "<table border=\"1\" class=\"dataframe\">\n",
       "  <thead>\n",
       "    <tr style=\"text-align: right;\">\n",
       "      <th></th>\n",
       "      <th>Mars</th>\n",
       "      <th>Earth</th>\n",
       "    </tr>\n",
       "    <tr>\n",
       "      <th>description</th>\n",
       "      <th></th>\n",
       "      <th></th>\n",
       "    </tr>\n",
       "  </thead>\n",
       "  <tbody>\n",
       "    <tr>\n",
       "      <th>Mars - Earth Comparison</th>\n",
       "      <td>Mars</td>\n",
       "      <td>Earth</td>\n",
       "    </tr>\n",
       "    <tr>\n",
       "      <th>Diameter:</th>\n",
       "      <td>6,779 km</td>\n",
       "      <td>12,742 km</td>\n",
       "    </tr>\n",
       "    <tr>\n",
       "      <th>Mass:</th>\n",
       "      <td>6.39 × 10^23 kg</td>\n",
       "      <td>5.97 × 10^24 kg</td>\n",
       "    </tr>\n",
       "    <tr>\n",
       "      <th>Moons:</th>\n",
       "      <td>2</td>\n",
       "      <td>1</td>\n",
       "    </tr>\n",
       "    <tr>\n",
       "      <th>Distance from Sun:</th>\n",
       "      <td>227,943,824 km</td>\n",
       "      <td>149,598,262 km</td>\n",
       "    </tr>\n",
       "    <tr>\n",
       "      <th>Length of Year:</th>\n",
       "      <td>687 Earth days</td>\n",
       "      <td>365.24 days</td>\n",
       "    </tr>\n",
       "    <tr>\n",
       "      <th>Temperature:</th>\n",
       "      <td>-87 to -5 °C</td>\n",
       "      <td>-88 to 58°C</td>\n",
       "    </tr>\n",
       "  </tbody>\n",
       "</table>\n",
       "</div>"
      ],
      "text/plain": [
       "                                    Mars            Earth\n",
       "description                                              \n",
       "Mars - Earth Comparison             Mars            Earth\n",
       "Diameter:                       6,779 km        12,742 km\n",
       "Mass:                    6.39 × 10^23 kg  5.97 × 10^24 kg\n",
       "Moons:                                 2                1\n",
       "Distance from Sun:        227,943,824 km   149,598,262 km\n",
       "Length of Year:           687 Earth days      365.24 days\n",
       "Temperature:                -87 to -5 °C      -88 to 58°C"
      ]
     },
     "execution_count": 18,
     "metadata": {},
     "output_type": "execute_result"
    }
   ],
   "source": [
    "# Instead of scraping each row, or the data in each <td />, we're going to scrape the entire table \n",
    "# with Pandas' .read_html() function.\n",
    "df = pd.read_html('https://galaxyfacts-mars.com')[0]\n",
    "df.columns=['description', 'Mars', 'Earth']\n",
    "df.set_index('description', inplace=True)\n",
    "df"
   ]
  },
  {
   "cell_type": "code",
   "execution_count": 19,
   "id": "275c82f1",
   "metadata": {},
   "outputs": [
    {
     "data": {
      "text/plain": [
       "'<table border=\"1\" class=\"dataframe\">\\n  <thead>\\n    <tr style=\"text-align: right;\">\\n      <th></th>\\n      <th>Mars</th>\\n      <th>Earth</th>\\n    </tr>\\n    <tr>\\n      <th>description</th>\\n      <th></th>\\n      <th></th>\\n    </tr>\\n  </thead>\\n  <tbody>\\n    <tr>\\n      <th>Mars - Earth Comparison</th>\\n      <td>Mars</td>\\n      <td>Earth</td>\\n    </tr>\\n    <tr>\\n      <th>Diameter:</th>\\n      <td>6,779 km</td>\\n      <td>12,742 km</td>\\n    </tr>\\n    <tr>\\n      <th>Mass:</th>\\n      <td>6.39 × 10^23 kg</td>\\n      <td>5.97 × 10^24 kg</td>\\n    </tr>\\n    <tr>\\n      <th>Moons:</th>\\n      <td>2</td>\\n      <td>1</td>\\n    </tr>\\n    <tr>\\n      <th>Distance from Sun:</th>\\n      <td>227,943,824 km</td>\\n      <td>149,598,262 km</td>\\n    </tr>\\n    <tr>\\n      <th>Length of Year:</th>\\n      <td>687 Earth days</td>\\n      <td>365.24 days</td>\\n    </tr>\\n    <tr>\\n      <th>Temperature:</th>\\n      <td>-87 to -5 °C</td>\\n      <td>-88 to 58°C</td>\\n    </tr>\\n  </tbody>\\n</table>'"
      ]
     },
     "execution_count": 19,
     "metadata": {},
     "output_type": "execute_result"
    }
   ],
   "source": [
    "# Our data is live—if the table is updated, then we want that change to appear in Robin's app also.\n",
    "# Thankfully, Pandas also has a way to easily convert our DataFrame back into HTML-ready code using the .to_html() function.\n",
    "\n",
    "df.to_html()\n"
   ]
  },
  {
   "cell_type": "code",
   "execution_count": 21,
   "id": "6e2562d3",
   "metadata": {},
   "outputs": [],
   "source": [
    "# Now that we've gathered everything on Robin's list, we can end the automated browsing session. \n",
    "# This is an important line to add to our web app also. Without it, the automated browser won't know \n",
    "# to shut down—it will continue to listen for instructions and use the computer's resources \n",
    "# (it may put a strain on memory or a laptop's battery if left on)\n",
    "\n",
    "browser.quit()"
   ]
  },
  {
   "cell_type": "code",
   "execution_count": null,
   "id": "c5406155",
   "metadata": {},
   "outputs": [],
   "source": [
    "# We can't automate the scraping using the Jupyter Notebook. To fully automate it, \n",
    "# it will need to be converted into a .py file.\n",
    "# It won't transition over perfectly, we'll need to clean it up a bit, but it's an easier task \n",
    "# than copying each cell and pasting it over in the correct order."
   ]
  }
 ],
 "metadata": {
  "kernelspec": {
   "display_name": "PythonData",
   "language": "python",
   "name": "pythondata"
  },
  "language_info": {
   "codemirror_mode": {
    "name": "ipython",
    "version": 3
   },
   "file_extension": ".py",
   "mimetype": "text/x-python",
   "name": "python",
   "nbconvert_exporter": "python",
   "pygments_lexer": "ipython3",
   "version": "3.7.10"
  }
 },
 "nbformat": 4,
 "nbformat_minor": 5
}
